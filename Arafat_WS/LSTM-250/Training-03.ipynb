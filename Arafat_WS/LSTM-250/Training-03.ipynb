{
 "cells": [
  {
   "cell_type": "markdown",
   "id": "436bffc2",
   "metadata": {},
   "source": [
    "# Training LSTM-250 for Phoneme Recognition on TIMIT\n",
    "\n",
    "## Goals\n",
    "\n",
    "- Loading feature datasets exported by previous notebook\n",
    "- Model design\n",
    "- Dataloader design\n",
    "- Training dashboard\n",
    "- Training\n",
    "- Validate trained model and test dataset generation\n",
    "- Exporting trained model and test dataset as SQLite3 databse for C implementation"
   ]
  },
  {
   "cell_type": "markdown",
   "id": "67d0631b",
   "metadata": {},
   "source": [
    "# Environment Setup"
   ]
  },
  {
   "cell_type": "code",
   "execution_count": 1,
   "id": "8df48fac",
   "metadata": {},
   "outputs": [
    {
     "name": "stdout",
     "output_type": "stream",
     "text": [
      "Using PyTorch version: 2.0.1  Device: cuda\n"
     ]
    }
   ],
   "source": [
    "import torch\n",
    "import torch.nn as nn\n",
    "import torch.nn.functional as F\n",
    "\n",
    "import matplotlib.pyplot as plt\n",
    "import IPython.display as ipd\n",
    "from tqdm.auto import tqdm\n",
    "\n",
    "\n",
    "if torch.cuda.is_available():\n",
    "    device = torch.device('cuda')\n",
    "else:\n",
    "    device = torch.device('cpu')\n",
    "\n",
    "print('Using PyTorch version:', torch.__version__, ' Device:', device)"
   ]
  },
  {
   "cell_type": "markdown",
   "id": "ccaf87a9",
   "metadata": {},
   "source": [
    "# Loading Feature Datasets"
   ]
  },
  {
   "cell_type": "code",
   "execution_count": 2,
   "id": "adf1f653",
   "metadata": {},
   "outputs": [],
   "source": [
    "train_ds_path = './session/train-features.pt'\n",
    "test_ds_path = './session/test-features.pt'\n",
    "train_feat_dict = torch.load(train_ds_path)\n",
    "test_feat_dict  = torch.load(test_ds_path)"
   ]
  },
  {
   "cell_type": "code",
   "execution_count": 3,
   "id": "5974c4d5",
   "metadata": {},
   "outputs": [
    {
     "name": "stdout",
     "output_type": "stream",
     "text": [
      "dict_keys(['note', 'data-schema', 'data'])\n",
      "\n",
      "Notes:\n",
      "- Feature record: (phone, feature_sequence)\n",
      "- feature_seqence: list(feature_vector)\n",
      "- len(feature_vector): 123\n",
      "\n",
      "Features are extracted using following parameters\n",
      "F_n_mfcc    : 40\n",
      "F_fft_window: 256\n",
      "F_hop_length: 64\n",
      "F_n_mels    : 128\n",
      "\n",
      "(phoneme, feature-sequence)\n",
      "Train_feat: 51848\n",
      "Feature-len: 123\n"
     ]
    }
   ],
   "source": [
    "print(train_feat_dict.keys())\n",
    "print(train_feat_dict['note'])\n",
    "print(train_feat_dict['data-schema'])\n",
    "\n",
    "Train_feat = train_feat_dict['data']\n",
    "print('Train_feat:', len(Train_feat))\n",
    "print('Feature-len:', len(Train_feat[0][1]))"
   ]
  },
  {
   "cell_type": "code",
   "execution_count": 4,
   "id": "9f884781",
   "metadata": {},
   "outputs": [
    {
     "name": "stdout",
     "output_type": "stream",
     "text": [
      "dict_keys(['note', 'data-schema', 'data'])\n",
      "\n",
      "Notes:\n",
      "- Feature record: (phone, feature_sequence)\n",
      "- feature_seqence: list(feature_vector)\n",
      "- len(feature_vector): 123\n",
      "\n",
      "Features are extracted using following parameters\n",
      "F_n_mfcc    : 40\n",
      "F_fft_window: 256\n",
      "F_hop_length: 64\n",
      "F_n_mels    : 128\n",
      "\n",
      "(phoneme, feature-sequence)\n",
      "Train_feat: 7333\n",
      "Feature-len: 123\n"
     ]
    }
   ],
   "source": [
    "print(test_feat_dict.keys())\n",
    "print(test_feat_dict['note'])\n",
    "print(test_feat_dict['data-schema'])\n",
    "\n",
    "Test_feat = test_feat_dict['data']\n",
    "print('Train_feat:', len(Test_feat))\n",
    "print('Feature-len:', len(Test_feat[0][1]))"
   ]
  },
  {
   "cell_type": "code",
   "execution_count": 5,
   "id": "a8599cb4",
   "metadata": {},
   "outputs": [],
   "source": [
    "# Delete redundant names to avoid confusions\n",
    "del train_ds_path, test_ds_path, train_feat_dict, test_feat_dict"
   ]
  },
  {
   "cell_type": "markdown",
   "id": "92de412f",
   "metadata": {},
   "source": [
    "## Show Some Data points\n",
    "\n",
    "**NOTE:**\n",
    "- Observe that the feature sequence layout is (feature-vector, sequence-point)\n",
    "- For LSTM training, it needs to be transposed to make it (sequence-point, feature-vector)"
   ]
  },
  {
   "cell_type": "code",
   "execution_count": 8,
   "id": "224df825",
   "metadata": {},
   "outputs": [
    {
     "name": "stdout",
     "output_type": "stream",
     "text": [
      "item type: <class 'list'>\n",
      "phone: h#\n",
      "feat-seq type: <class 'numpy.ndarray'>\n",
      "feat_seq: (123, 42) \n",
      "\n",
      "item type: <class 'list'>\n",
      "phone: l\n",
      "feat-seq type: <class 'numpy.ndarray'>\n",
      "feat_seq: (123, 17) \n",
      "\n",
      "item type: <class 'list'>\n",
      "phone: h#\n",
      "feat-seq type: <class 'numpy.ndarray'>\n",
      "feat_seq: (123, 38) \n",
      "\n",
      "item type: <class 'list'>\n",
      "phone: s\n",
      "feat-seq type: <class 'numpy.ndarray'>\n",
      "feat_seq: (123, 17) \n",
      "\n"
     ]
    }
   ],
   "source": [
    "# Given an item from Train/Test_feat, shows some information\n",
    "# feat_item: (phone, feature-sequence)\n",
    "def showFeatInfo(feat_item, end=''):    \n",
    "    print('item type:', type(feat_item))\n",
    "    phone, feat_seq = feat_item\n",
    "    print('phone:', phone)\n",
    "    print('feat-seq type:', type(feat_seq))\n",
    "    print('feat_seq:', feat_seq.shape, end)\n",
    "\n",
    "\n",
    "# show a few items\n",
    "showFeatInfo(Train_feat[0], end='\\n')\n",
    "showFeatInfo(Train_feat[3], end='\\n')\n",
    "\n",
    "showFeatInfo(Test_feat[0], end='\\n')\n",
    "showFeatInfo(Test_feat[3], end='\\n')"
   ]
  },
  {
   "cell_type": "markdown",
   "id": "6f813123",
   "metadata": {},
   "source": [
    "## Transpose Feature Sequences"
   ]
  },
  {
   "cell_type": "code",
   "execution_count": 9,
   "id": "f45369df",
   "metadata": {},
   "outputs": [
    {
     "name": "stdout",
     "output_type": "stream",
     "text": [
      "item type: <class 'list'>\n",
      "phone: h#\n",
      "feat-seq type: <class 'numpy.ndarray'>\n",
      "feat_seq: (42, 123) \n",
      "\n",
      "item type: <class 'list'>\n",
      "phone: l\n",
      "feat-seq type: <class 'numpy.ndarray'>\n",
      "feat_seq: (17, 123) \n",
      "\n",
      "item type: <class 'list'>\n",
      "phone: h#\n",
      "feat-seq type: <class 'numpy.ndarray'>\n",
      "feat_seq: (38, 123) \n",
      "\n",
      "item type: <class 'list'>\n",
      "phone: s\n",
      "feat-seq type: <class 'numpy.ndarray'>\n",
      "feat_seq: (17, 123) \n",
      "\n"
     ]
    }
   ],
   "source": [
    "# Given a feature dataset, transposes the feature sequences\n",
    "def transposeFeatSeq(feat_ds):\n",
    "    for item in feat_ds:\n",
    "        item[1] = item[1].T\n",
    "        \n",
    "        \n",
    "# Transpose the feature datasets\n",
    "transposeFeatSeq(Train_feat)\n",
    "transposeFeatSeq(Test_feat)\n",
    "\n",
    "# show a few item info\n",
    "showFeatInfo(Train_feat[0], end='\\n')\n",
    "showFeatInfo(Train_feat[3], end='\\n')\n",
    "\n",
    "showFeatInfo(Test_feat[0], end='\\n')\n",
    "showFeatInfo(Test_feat[3], end='\\n')"
   ]
  },
  {
   "cell_type": "markdown",
   "id": "2cd7c55e",
   "metadata": {},
   "source": [
    "# Model Design"
   ]
  },
  {
   "cell_type": "code",
   "execution_count": null,
   "id": "fe2fc0f5",
   "metadata": {},
   "outputs": [],
   "source": []
  },
  {
   "cell_type": "markdown",
   "id": "a129e9a5",
   "metadata": {},
   "source": [
    "# Dataloader Design"
   ]
  },
  {
   "cell_type": "code",
   "execution_count": null,
   "id": "1b6d79a3",
   "metadata": {},
   "outputs": [],
   "source": []
  },
  {
   "cell_type": "markdown",
   "id": "e5244fa9",
   "metadata": {},
   "source": [
    "# Setting up Training Dashboard"
   ]
  },
  {
   "cell_type": "code",
   "execution_count": null,
   "id": "d1f27ee3",
   "metadata": {},
   "outputs": [],
   "source": []
  },
  {
   "cell_type": "markdown",
   "id": "c47c1fc2",
   "metadata": {},
   "source": [
    "# Run Training"
   ]
  },
  {
   "cell_type": "code",
   "execution_count": null,
   "id": "ebc9289b",
   "metadata": {},
   "outputs": [],
   "source": []
  },
  {
   "cell_type": "markdown",
   "id": "43e78c59",
   "metadata": {},
   "source": [
    "# Validate Trained Model"
   ]
  },
  {
   "cell_type": "code",
   "execution_count": null,
   "id": "644df238",
   "metadata": {},
   "outputs": [],
   "source": []
  },
  {
   "cell_type": "markdown",
   "id": "6a7b4f6f",
   "metadata": {},
   "source": [
    "# Export Model and Test Dataset"
   ]
  },
  {
   "cell_type": "code",
   "execution_count": null,
   "id": "157592e5",
   "metadata": {},
   "outputs": [],
   "source": []
  },
  {
   "cell_type": "code",
   "execution_count": null,
   "id": "964720e0",
   "metadata": {},
   "outputs": [],
   "source": []
  }
 ],
 "metadata": {
  "kernelspec": {
   "display_name": "Python 3 (ipykernel)",
   "language": "python",
   "name": "python3"
  },
  "language_info": {
   "codemirror_mode": {
    "name": "ipython",
    "version": 3
   },
   "file_extension": ".py",
   "mimetype": "text/x-python",
   "name": "python",
   "nbconvert_exporter": "python",
   "pygments_lexer": "ipython3",
   "version": "3.10.11"
  },
  "toc": {
   "base_numbering": 1,
   "nav_menu": {},
   "number_sections": true,
   "sideBar": true,
   "skip_h1_title": false,
   "title_cell": "Table of Contents",
   "title_sidebar": "Contents",
   "toc_cell": false,
   "toc_position": {},
   "toc_section_display": true,
   "toc_window_display": false
  }
 },
 "nbformat": 4,
 "nbformat_minor": 5
}
