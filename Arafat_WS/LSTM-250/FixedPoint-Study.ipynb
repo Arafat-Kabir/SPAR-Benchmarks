{
 "cells": [
  {
   "cell_type": "markdown",
   "id": "7f827b4d",
   "metadata": {},
   "source": [
    "# Fixed Point Precision Study on LSTM-250"
   ]
  },
  {
   "cell_type": "code",
   "execution_count": 1,
   "id": "16aff33a",
   "metadata": {},
   "outputs": [],
   "source": [
    "import torch\n",
    "import numpy as np"
   ]
  },
  {
   "cell_type": "markdown",
   "id": "33489e62",
   "metadata": {},
   "source": [
    "# Load the Floating-Point Model and Dataset"
   ]
  },
  {
   "cell_type": "markdown",
   "id": "f7c5cddf",
   "metadata": {},
   "source": [
    "## Load Saved Model Weights"
   ]
  },
  {
   "cell_type": "code",
   "execution_count": 7,
   "id": "a28ad4ed",
   "metadata": {},
   "outputs": [
    {
     "name": "stdout",
     "output_type": "stream",
     "text": [
      "total 1.7G\n",
      "-rw-rw-r-- 1 makabir makabir  310 Jun 24 16:57 README.md\n",
      "-rw-rw-r-- 1 makabir makabir 1.3M Jun 26 12:52 curated-dataset.pt\n",
      "-rw-rw-r-- 1 makabir makabir 5.4M Jun 27 18:24 trained-lstm250-83.09p.pt\n",
      "-rw-rw-r-- 1 makabir makabir  829 Jun 27 18:30 label-to-index.pt\n",
      "-rw-rw-r-- 1 makabir makabir 167M Jun 28 23:12 test-features.pt\n",
      "-rw-rw-r-- 1 makabir makabir 1.2G Jun 28 23:15 train-features.pt\n",
      "-rw-rw-r-- 1 makabir makabir 125M Jun 28 23:48 Test_feat.pt\n",
      "-rw-rw-r-- 1 makabir makabir 5.4M Jun 28 23:48 trained-lstm250-82.26p.pt\n",
      "-rw-rw-r-- 1 makabir makabir 125M Jun 28 23:49 Test_feat-82.26p.pt\n",
      "drwxrwxr-x 2 makabir makabir 4.0K Jun 29 13:23 backup\n",
      "-rw-rw-r-- 1 makabir makabir 5.4M Jun 29 15:14 trained-lstm250.pt\n",
      "-rw-rw-r-- 1 makabir makabir 125M Jun 29 15:28 test-export-ds.pt\n",
      "-rw-rw-r-- 1 makabir makabir 7.9M Jun 29 18:06 model-params-np.pt\n",
      "\n",
      "dict_keys(['accuracy', 'correct_count', 'Hparam', 'index_to_label', 'weights_dict'])\n"
     ]
    }
   ],
   "source": [
    "!ls -ltrh ./session/\n",
    "print('')\n",
    "\n",
    "# Load saved model dictionary\n",
    "model_path = './session/model-params-np.pt'\n",
    "model_dict = torch.load(model_path)\n",
    "print(model_dict.keys())"
   ]
  },
  {
   "cell_type": "code",
   "execution_count": 8,
   "id": "cb823178",
   "metadata": {},
   "outputs": [
    {
     "name": "stdout",
     "output_type": "stream",
     "text": [
      "Hparam: {'input_size': 123, 'hidden_size': 250, 'num_layers': 3, 'num_classes': 39}\n",
      "Model_perf: Model Performance:   accuracy: 73.03%   correct_count: 5355\n"
     ]
    }
   ],
   "source": [
    "# Parse the values for easier use\n",
    "Accuracy = model_dict['accuracy']\n",
    "Correct_count = model_dict['correct_count']\n",
    "Index_to_label = model_dict['index_to_label']\n",
    "Label_to_index = {label:index for index, label in Index_to_label.items()}\n",
    "Hparam = model_dict['Hparam']\n",
    "Weights_np = model_dict['weights_dict']\n",
    "Model_perf = f'Model Performance:   accuracy: {Accuracy:.2f}%   correct_count: {Correct_count}'  # to be used later\n",
    "print('Hparam:', Hparam)\n",
    "print('Model_perf:', Model_perf)\n"
   ]
  },
  {
   "cell_type": "markdown",
   "id": "d0cbe737",
   "metadata": {},
   "source": [
    "## Load Dataset"
   ]
  },
  {
   "cell_type": "code",
   "execution_count": 9,
   "id": "51342fa7",
   "metadata": {},
   "outputs": [
    {
     "name": "stdout",
     "output_type": "stream",
     "text": [
      "dict_keys(['label_dict', 'dataset_schema', 'dataset'])\n",
      "DS_loaded len: 7333\n",
      "schema: (label, label_index, predicted_index, sequence_length, feature_sequence)\n",
      "INFO: Dataset and Model label-to-index matched\n",
      "label: h#, label_index: 6, predicted_index: 6, sequence_length: 38, \n",
      "feature_sequence shape: (38, 123), feature_seq type: <class 'numpy.ndarray'>\n"
     ]
    }
   ],
   "source": [
    "# Prints information about dataset item\n",
    "def print_dataItem(item):\n",
    "    mstr = f\"label: {item[0]}, label_index: {item[1]}, predicted_index: {item[2]}, sequence_length: {item[3]},\"\n",
    "    mstr2 = f\"\\nfeature_sequence shape: {item[4].shape}, feature_seq type: {type(item[4])}\"\n",
    "    print(mstr, mstr2)\n",
    "\n",
    "    \n",
    "# Load the test dataset\n",
    "ds_path = \"./session/test-export-ds.pt\"\n",
    "DS_loaded = torch.load(ds_path)\n",
    "print(DS_loaded.keys())\n",
    "print('DS_loaded len:', len(DS_loaded['dataset']))\n",
    "print('schema:', DS_loaded['dataset_schema'])\n",
    "\n",
    "\n",
    "# Make sure the label-to-index dictionary matches the one in the model\n",
    "for key in DS_loaded['label_dict']:\n",
    "    assert DS_loaded['label_dict'][key] == Label_to_index[key], 'Dataset and Model Label-to-index are different'\n",
    "print('INFO: Dataset and Model label-to-index matched')\n",
    "\n",
    "\n",
    "# show an item information\n",
    "DataItems = DS_loaded['dataset']\n",
    "item = DataItems[0]\n",
    "print_dataItem(item)"
   ]
  },
  {
   "cell_type": "code",
   "execution_count": 10,
   "id": "1a6ea4e1",
   "metadata": {},
   "outputs": [],
   "source": [
    "# Delete names to avoid confusions later\n",
    "del model_path, model_dict\n",
    "del ds_path, key, item"
   ]
  },
  {
   "cell_type": "markdown",
   "id": "facde434",
   "metadata": {},
   "source": [
    "# Define Fixed-Point Methods"
   ]
  },
  {
   "cell_type": "code",
   "execution_count": 13,
   "id": "37a7b6d1",
   "metadata": {},
   "outputs": [
    {
     "name": "stdout",
     "output_type": "stream",
     "text": [
      "fxp_ctor() tests:\r\n",
      "[8, 9, 4, 2, 31, -3, -9]\r\n",
      "[-8. -7.  4.  2. -1. -3.  7.]\r\n",
      "fxp_Status(overflow=True, overflow_count=4, max_vali=496, min_vali=-144, max_valf=31.0, min_valf=-9.0)\r\n",
      "\r\n",
      "fxp_Status(overflow=True, overflow_count=4, max_vali=1024, min_vali=-1024, max_valf=32.0, min_valf=-32.0)\r\n",
      "[16, 18, -4, -32, 32, -10]\r\n",
      "[-16. -14.  -4.   0.   0. -10.]\r\n",
      "\r\n",
      "\r\n",
      "fxp_getSignBits() tests:\r\n",
      "fxp_Status(overflow=False, overflow_count=0, max_vali=112, min_vali=-80, max_valf=7.0, min_valf=-5.0)\r\n",
      "[1, 1, 1, 0, 0, 0]\r\n",
      "[1 1 1 0 0 0]\r\n",
      "\r\n",
      "fxp_Status(overflow=False, overflow_count=0, max_vali=448, min_vali=-320, max_valf=14.0, min_valf=-10.0)\r\n",
      "[1, 0, 1, 0, 1, 0]\r\n",
      "[1 0 1 0 1 0]\r\n",
      "\r\n",
      "\r\n",
      "fxp_computeStatus tests:\r\n",
      "fxp_Status(overflow=True, overflow_count=4, max_vali=496, min_vali=-144, max_valf=31.0, min_valf=-9.0)\r\n",
      "[ 128  144   64   32  496  -48 -144]\r\n",
      "[-128 -112   64   32  -16  -48  112]\r\n",
      "fxp_Status(overflow=True, overflow_count=4, max_vali=496, min_vali=-144, max_valf=31.0, min_valf=-9.0)\r\n",
      "\r\n",
      "fxp_Status(overflow=True, overflow_count=5, max_vali=1024, min_vali=-2048, max_valf=32.0, min_valf=-64.0)\r\n",
      "[  512   576  -128 -1024  1024  -320 -2048]\r\n",
      "[-512 -448 -128    0    0 -320    0]\r\n",
      "fxp_Status(overflow=True, overflow_count=5, max_vali=1024, min_vali=-2048, max_valf=64.0, min_valf=-128.0)\r\n",
      "\r\n",
      "\r\n",
      "fxp from matrix tests:\r\n",
      "fxp_Status(overflow=False, overflow_count=0, max_vali=288, min_vali=0, max_valf=9.0, min_valf=0.0)\r\n",
      "[[1. 2. 3. 4.]\r\n",
      " [2. 5. 7. 2.]\r\n",
      " [9. 3. 5. 0.]]\r\n"
     ]
    }
   ],
   "source": [
    "# Delete the cache before importing\n",
    "!rm -rf __pycache__/\n",
    "from AK_FixedPoint import *\n",
    "\n",
    "# Run Unit tests to make sure everything is okay\n",
    "!python3 unittest_fxp.py"
   ]
  },
  {
   "cell_type": "markdown",
   "id": "a1e4179c",
   "metadata": {},
   "source": [
    "# Check Fixed-Point Precisions of Dataset and Weights"
   ]
  },
  {
   "cell_type": "markdown",
   "id": "6b3bfe43",
   "metadata": {},
   "source": [
    "## Dataset"
   ]
  },
  {
   "cell_type": "code",
   "execution_count": 36,
   "id": "dff71961",
   "metadata": {},
   "outputs": [
    {
     "name": "stdout",
     "output_type": "stream",
     "text": [
      "all_features: (21014796,)\n",
      "all_feat_0  : (21001647,)\n"
     ]
    }
   ],
   "source": [
    "from math import inf as INF\n",
    "\n",
    "\n",
    "all_features = []\n",
    "for item in DataItems:\n",
    "    all_features.append(item[-1])\n",
    "all_features = np.concatenate(all_features)\n",
    "all_features = all_features.flatten()\n",
    "all_feat_0 = all_features[all_features!=0]     # remove all zeros\n",
    "\n",
    "print('all_features:', all_features.shape)\n",
    "print('all_feat_0  :', all_feat_0.shape)"
   ]
  },
  {
   "cell_type": "code",
   "execution_count": 37,
   "id": "0231dff6",
   "metadata": {},
   "outputs": [
    {
     "name": "stdout",
     "output_type": "stream",
     "text": [
      "min_ds    : -100.0\n",
      "max_ds    : 9.921182\n",
      "min_abs_ds: 0.0\n",
      "max_abs_ds: 100.0\n",
      "min_abs_0 : 2.506533e-16\n"
     ]
    }
   ],
   "source": [
    "print('min_ds    :', np.min(all_features))\n",
    "print('max_ds    :', np.max(all_features))\n",
    "print('min_abs_ds:', np.min(np.abs(all_features)))\n",
    "print('max_abs_ds:', np.max(np.abs(all_features)))\n",
    "print('min_abs_0 :', np.min(np.abs(all_feat_0)))"
   ]
  },
  {
   "cell_type": "markdown",
   "id": "a6f896a7",
   "metadata": {},
   "source": [
    "## Weights"
   ]
  },
  {
   "cell_type": "code",
   "execution_count": 42,
   "id": "493b03ce",
   "metadata": {},
   "outputs": [
    {
     "name": "stdout",
     "output_type": "stream",
     "text": [
      "all_weights: (1388789,)\n",
      "all_w_0    : (1388789,)\n"
     ]
    }
   ],
   "source": [
    "all_weights = []\n",
    "for k, weight in Weights_np.items():\n",
    "    all_weights.append(weight.flatten())\n",
    "all_weights = np.concatenate(all_weights)\n",
    "all_weights = all_weights.flatten()\n",
    "all_w_0 = all_weights[all_weights!=0]    # remove all zeros\n",
    "\n",
    "print('all_weights:', all_weights.shape)\n",
    "print('all_w_0    :', all_w_0.shape)"
   ]
  },
  {
   "cell_type": "code",
   "execution_count": 41,
   "id": "30d10234",
   "metadata": {},
   "outputs": [
    {
     "name": "stdout",
     "output_type": "stream",
     "text": [
      "min_w    : -0.1854084\n",
      "max_w    : 0.21388349\n",
      "min_abs_w: 3.3071996e-13\n",
      "max_abs_w: 0.21388349\n",
      "min_abs_0: 3.3071996e-13\n"
     ]
    }
   ],
   "source": [
    "print('min_w    :', np.min(all_weights))\n",
    "print('max_w    :', np.max(all_weights))\n",
    "print('min_abs_w:', np.min(np.abs(all_weights)))\n",
    "print('max_abs_w:', np.max(np.abs(all_weights)))\n",
    "print('min_abs_0:', np.min(np.abs(all_w_0)))"
   ]
  }
 ],
 "metadata": {
  "kernelspec": {
   "display_name": "Python 3 (ipykernel)",
   "language": "python",
   "name": "python3"
  },
  "language_info": {
   "codemirror_mode": {
    "name": "ipython",
    "version": 3
   },
   "file_extension": ".py",
   "mimetype": "text/x-python",
   "name": "python",
   "nbconvert_exporter": "python",
   "pygments_lexer": "ipython3",
   "version": "3.10.11"
  },
  "toc": {
   "base_numbering": 1,
   "nav_menu": {},
   "number_sections": true,
   "sideBar": true,
   "skip_h1_title": false,
   "title_cell": "Table of Contents",
   "title_sidebar": "Contents",
   "toc_cell": false,
   "toc_position": {},
   "toc_section_display": true,
   "toc_window_display": false
  }
 },
 "nbformat": 4,
 "nbformat_minor": 5
}
