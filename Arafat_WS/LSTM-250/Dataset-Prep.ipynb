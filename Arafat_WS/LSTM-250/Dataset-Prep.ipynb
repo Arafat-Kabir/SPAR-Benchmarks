{
 "cells": [
  {
   "cell_type": "markdown",
   "id": "2c72c8e6",
   "metadata": {},
   "source": [
    "# Dataset Preparation for Phoneme Recognition on TIMIT\n",
    "\n",
    "## Goals\n",
    "\n",
    "- Exploring TIMIT dataset.\n",
    "- Splitting the dataset into train and test subset. \n",
    "- Some data is filtered according to [[1]](https://ieeexplore.ieee.org/stamp/stamp.jsp?arnumber=6638947)\n",
    "    - SA records are removed from training dataset\n",
    "    - **Only core test subset** with 24 speakers are exported for testing.\n",
    "    - Records missing phonetic-file (phoneme labels) are removed.\n",
    "\n",
    "- Building phoneme records: (phoneme, path-to-audio, start-index, end-index)\n",
    "- Remap phoneme from 61 to 39 classes.\n",
    "- Export as PyTorch serialized object using torch.save().\n",
    "\n",
    "\n",
    "**Naming Conventions**\n",
    "\n",
    "- Small letter variables are local to a section\n",
    "- Capitalized variables are used across sections\n",
    "- Functions are always assumed to be used across sections"
   ]
  },
  {
   "cell_type": "markdown",
   "id": "53996b4a",
   "metadata": {},
   "source": [
    "# Environment Setup"
   ]
  },
  {
   "cell_type": "code",
   "execution_count": 1,
   "id": "98ee052a",
   "metadata": {},
   "outputs": [
    {
     "name": "stdout",
     "output_type": "stream",
     "text": [
      "Using PyTorch version: 2.0.1  Device: cuda\n"
     ]
    }
   ],
   "source": [
    "import torch\n",
    "\n",
    "import os\n",
    "import pandas as pd\n",
    "import librosa\n",
    "import IPython.display as ipd\n",
    "from tqdm.auto import tqdm\n",
    "\n",
    "\n",
    "if torch.cuda.is_available():\n",
    "    device = torch.device('cuda')\n",
    "else:\n",
    "    device = torch.device('cpu')\n",
    "\n",
    "print('Using PyTorch version:', torch.__version__, ' Device:', device)"
   ]
  },
  {
   "cell_type": "markdown",
   "id": "b90043f9",
   "metadata": {},
   "source": [
    "# Loading Dataset\n",
    "\n",
    "The DARPA TIMIT dataset can be downloaded from \n",
    "[here](https://www.kaggle.com/datasets/mfekadu/darpa-timit-acousticphonetic-continuous-speech).\n",
    "After downloading it, simply unzip it into `./dataset/TIMIT`."
   ]
  },
  {
   "cell_type": "code",
   "execution_count": 2,
   "id": "02626b51",
   "metadata": {},
   "outputs": [],
   "source": [
    "Timit_path = \"./dataset/TIMIT/\"\n",
    "Data_path = \"./dataset/TIMIT/data/\"\n",
    "DF_train = pd.read_csv(os.path.join(Timit_path, 'train_data.csv'))\n",
    "DF_test = pd.read_csv(os.path.join(Timit_path, 'test_data.csv'))"
   ]
  },
  {
   "cell_type": "code",
   "execution_count": 3,
   "id": "0a511508",
   "metadata": {},
   "outputs": [
    {
     "name": "stdout",
     "output_type": "stream",
     "text": [
      "DF_train: (23100, 12)\n",
      "DF_test : (8400, 12)\n"
     ]
    }
   ],
   "source": [
    "# Remove empty rows\n",
    "DF_train = DF_train.dropna(how='all')  # train_data.csv has some rows with all missing fields, that's why how='all'\n",
    "DF_test = DF_test.dropna(how='any')    # test_data.csv has some weird rows with '\\\\\\\\\\', that's why how='any'\n",
    "print('DF_train:', DF_train.shape)\n",
    "print('DF_test :', DF_test.shape)"
   ]
  },
  {
   "cell_type": "code",
   "execution_count": 4,
   "id": "46883e56",
   "metadata": {},
   "outputs": [
    {
     "name": "stdout",
     "output_type": "stream",
     "text": [
      "DF_train: (18480, 12)\n",
      "DF_test : (6720, 12)\n"
     ]
    }
   ],
   "source": [
    "# Remove is_converted_audio rows. These rows points to audio files that \n",
    "# has gone through some post-processing after recording and contain the \n",
    "# same sentence spoken by the same speaker. Thus, they are redundant.\n",
    "DF_train = DF_train[DF_train['is_converted_audio'] == False]\n",
    "DF_test = DF_test[DF_test['is_converted_audio'] == False]\n",
    "print('DF_train:', DF_train.shape)\n",
    "print('DF_test :', DF_test.shape)"
   ]
  },
  {
   "cell_type": "markdown",
   "id": "2c4eb06a",
   "metadata": {},
   "source": [
    "## Merge Entries\n",
    "\n",
    "One entry in the dataframe represents one file. Audio, word, and phonetics are stored separately in different files. We need to combine them into a single record."
   ]
  },
  {
   "cell_type": "code",
   "execution_count": 5,
   "id": "ec82e2e2",
   "metadata": {},
   "outputs": [
    {
     "data": {
      "application/vnd.jupyter.widget-view+json": {
       "model_id": "73abe9cec6a247cba2d47065944bffd4",
       "version_major": 2,
       "version_minor": 0
      },
      "text/plain": [
       "  0%|          | 0/18480 [00:00<?, ?it/s]"
      ]
     },
     "metadata": {},
     "output_type": "display_data"
    },
    {
     "data": {
      "application/vnd.jupyter.widget-view+json": {
       "model_id": "9698b2152a844d85808cd81bbc8c9a84",
       "version_major": 2,
       "version_minor": 0
      },
      "text/plain": [
       "  0%|          | 0/6720 [00:00<?, ?it/s]"
      ]
     },
     "metadata": {},
     "output_type": "display_data"
    },
    {
     "name": "stdout",
     "output_type": "stream",
     "text": [
      "Merged_train: 4620\n",
      "Merged_test : 1680\n"
     ]
    }
   ],
   "source": [
    "def mergeEntries(df_dataset):\n",
    "    merged_ds = {}  \n",
    "    \n",
    "    for idx, row in tqdm(df_dataset.iterrows(), total=len(df_dataset)):\n",
    "        path = row['path_from_data_dir']\n",
    "        entry_id = path.split('.')[0]     # remove the file-extension and use the basename as unique ID\n",
    "        \n",
    "        # create the entry if doesn't exist\n",
    "        if entry_id not in merged_ds:\n",
    "            merged_ds[entry_id] = {}\n",
    "            \n",
    "        # Add different file types under the same ID\n",
    "        if row['is_audio'] is True:\n",
    "            merged_ds[entry_id]['audio_file'] = os.path.join(Data_path, path)\n",
    "        elif row['is_word_file'] is True:\n",
    "            merged_ds[entry_id]['word_file'] = os.path.join(Data_path, path)\n",
    "        elif row['is_phonetic_file'] is True:\n",
    "            merged_ds[entry_id]['phonetic_file'] = os.path.join(Data_path, path)\n",
    "        elif row['is_sentence_file'] is True:\n",
    "            merged_ds[entry_id]['sentence_file'] = os.path.join(Data_path, path)\n",
    "    return merged_ds\n",
    "\n",
    "\n",
    "# Merge the dataset entries\n",
    "Merged_train = mergeEntries(DF_train)\n",
    "Merged_test = mergeEntries(DF_test)\n",
    "print('Merged_train:', len(Merged_train))\n",
    "print('Merged_test :', len(Merged_test))"
   ]
  },
  {
   "cell_type": "code",
   "execution_count": 6,
   "id": "029e98c2",
   "metadata": {},
   "outputs": [
    {
     "name": "stdout",
     "output_type": "stream",
     "text": [
      "Record keys: ['TRAIN/DR4/MMDM0/SI1311', 'TRAIN/DR4/MMDM0/SX321', 'TRAIN/DR4/MMDM0/SI681'] ...\n",
      "fields: ['phonetic_file', 'word_file', 'sentence_file', 'audio_file']\n",
      "\n",
      "record values:\n",
      "       phonetic_file:  ./dataset/TIMIT/data/TRAIN/DR4/MMDM0/SI1311.PHN\n",
      "           word_file:  ./dataset/TIMIT/data/TRAIN/DR4/MMDM0/SI1311.WRD\n",
      "       sentence_file:  ./dataset/TIMIT/data/TRAIN/DR4/MMDM0/SI1311.TXT\n",
      "          audio_file:  ./dataset/TIMIT/data/TRAIN/DR4/MMDM0/SI1311.WAV\n"
     ]
    }
   ],
   "source": [
    "# Check the structure of a record\n",
    "record_keys = list(Merged_train.keys())\n",
    "print('Record keys:', record_keys[:3], '...')\n",
    "\n",
    "record = Merged_train[record_keys[0]]\n",
    "fields = list(record.keys())\n",
    "print('fields:', fields)\n",
    "\n",
    "print('\\nrecord values:')\n",
    "for k,v in record.items():\n",
    "    print(f'{k:>20}:  {v}')"
   ]
  },
  {
   "cell_type": "markdown",
   "id": "3ddab20a",
   "metadata": {},
   "source": [
    "# Filter Dataset\n",
    "\n",
    "Some records are removed according to the paper [[1]](https://ieeexplore.ieee.org/stamp/stamp.jsp?arnumber=6638947)\n",
    "to perform an apple-to-apple comparison."
   ]
  },
  {
   "cell_type": "code",
   "execution_count": 7,
   "id": "f9c2d4d8",
   "metadata": {},
   "outputs": [
    {
     "name": "stdout",
     "output_type": "stream",
     "text": [
      "Speaker count: 462\n",
      "speakers[0]: FMEM0\n"
     ]
    }
   ],
   "source": [
    "# Given the key (file path without extension), returns the speaker-name (with gender prefix)\n",
    "def getSpeakerName(dataset_key):\n",
    "    dirsonly = os.path.dirname(dataset_key)\n",
    "    dirs_list = dirsonly.split(os.sep)\n",
    "    return dirs_list[-1]    # last directory is the speaker name\n",
    "\n",
    "\n",
    "# Given a dataset dictionary, returns the set of speakers.\n",
    "def getAllSpeakers(dict_dataset):\n",
    "    speakers = set()\n",
    "    for key in dict_dataset:\n",
    "        name = getSpeakerName(key)\n",
    "        speakers.add(name)         \n",
    "    return speakers\n",
    "\n",
    "\n",
    "# Test getSpeakers()\n",
    "speakers = list(getAllSpeakers(Merged_train))\n",
    "print('Speaker count:', len(speakers))\n",
    "print('speakers[0]:', speakers[0])"
   ]
  },
  {
   "cell_type": "markdown",
   "id": "efe8c5c6",
   "metadata": {},
   "source": [
    "## Remove the SA records from datasets"
   ]
  },
  {
   "cell_type": "code",
   "execution_count": 8,
   "id": "a7467145",
   "metadata": {},
   "outputs": [
    {
     "name": "stdout",
     "output_type": "stream",
     "text": [
      "INFO: 924 \"SA\" records found in Merged_train\n",
      "Merged_train count before delete: 4620\n",
      "Merged_train count after delete : 3696\n",
      "Merged_train speaker count: 462\n"
     ]
    }
   ],
   "source": [
    "# extract the keys of SA records\n",
    "def getSAKeys(dict_dataset):\n",
    "    sa_keys = []\n",
    "    for key in dict_dataset:\n",
    "        basename = os.path.basename(key)   \n",
    "        # check if it is an 'SA' record, if yes save it\n",
    "        if basename[0:2] == 'SA':\n",
    "            sa_keys.append(key)       \n",
    "    return sa_keys\n",
    "\n",
    "\n",
    "# Delete the SA records in train dataset\n",
    "sa_keys = getSAKeys(Merged_train)\n",
    "print(f'INFO: {len(sa_keys)} \"SA\" records found in Merged_train')\n",
    "\n",
    "print('Merged_train count before delete:', len(Merged_train))\n",
    "for k in sa_keys: del(Merged_train[k])\n",
    "print('Merged_train count after delete :', len(Merged_train))\n",
    "\n",
    "# Check the speaker count\n",
    "speakers = list(getAllSpeakers(Merged_train))\n",
    "print('Merged_train speaker count:', len(speakers))"
   ]
  },
  {
   "cell_type": "code",
   "execution_count": 9,
   "id": "eb264729",
   "metadata": {},
   "outputs": [
    {
     "name": "stdout",
     "output_type": "stream",
     "text": [
      "\n",
      "INFO: 336 \"SA\" records found in Merged_test\n",
      "Merged_test count before delete: 1680\n",
      "Merged_test count after delete : 1344\n",
      "Merged_test speaker count: 168\n"
     ]
    }
   ],
   "source": [
    "# Delete the SA records in test dataset\n",
    "print('')\n",
    "sa_keys = getSAKeys(Merged_test)\n",
    "print(f'INFO: {len(sa_keys)} \"SA\" records found in Merged_test')\n",
    "\n",
    "print('Merged_test count before delete:', len(Merged_test))\n",
    "for k in sa_keys: del(Merged_test[k])\n",
    "print('Merged_test count after delete :', len(Merged_test))\n",
    "\n",
    "# Check the speaker count\n",
    "speakers = list(getAllSpeakers(Merged_test))\n",
    "print('Merged_test speaker count:', len(speakers))"
   ]
  },
  {
   "cell_type": "markdown",
   "id": "943ac0f9",
   "metadata": {},
   "source": [
    "## Keep the core test set only"
   ]
  },
  {
   "cell_type": "code",
   "execution_count": 10,
   "id": "e8705d42",
   "metadata": {},
   "outputs": [],
   "source": [
    "# Given a list/set of speaker and a dataset dictionary, deletes the records of those speakers\n",
    "def deleteSpeakers(speaker_names, dict_dataset):\n",
    "    del_keys = []\n",
    "    # Get the keys corresponding to given names\n",
    "    for key in dict_dataset:\n",
    "        name = getSpeakerName(key)\n",
    "        if name in speaker_names:\n",
    "            del_keys.append(key)\n",
    "    # delete those keys\n",
    "    print(f\"INFO: Deleting {len(del_keys)} records\")\n",
    "    for key in del_keys: del(dict_dataset[key])\n",
    "    return del_keys\n",
    "    "
   ]
  },
  {
   "cell_type": "code",
   "execution_count": 11,
   "id": "c39c7ffd",
   "metadata": {},
   "outputs": [
    {
     "name": "stdout",
     "output_type": "stream",
     "text": [
      "INFO: Deleting 1152 records\n",
      "Remaining test records: 192\n",
      "Remaining Speakers: 24 \n",
      " {'MTAS1', 'MNJM0', 'FJLM0', 'MTLS0', 'FMLD0', 'FDHC0', 'MKLT0', 'MCMJ0', 'MJMP0', 'MDAB0', 'FPAS0', 'FMGD0', 'FNLP0', 'MJDH0', 'FPKT0', 'MLNT0', 'MWEW0', 'MJLN0', 'FELC0', 'MPAM0', 'MBPM0', 'MWBT0', 'MGRT0', 'MLLL0'}\n"
     ]
    }
   ],
   "source": [
    "# This list is taken from \"TIMIT/TESTSET.DOC\"\n",
    "# M/F prefixes are added based on the gender, to make them correspond to the speaker-name directory in the dataset\n",
    "core_test_speakers = {\n",
    "    \"MDAB0\", \"MWBT0\",     \"FELC0\",\n",
    "    \"MTAS1\", \"MWEW0\",     \"FPAS0\",\n",
    "    \"MJMP0\", \"MLNT0\",     \"FPKT0\",\n",
    "    \"MLLL0\", \"MTLS0\",     \"FJLM0\",\n",
    "    \"MBPM0\", \"MKLT0\",     \"FNLP0\",\n",
    "    \"MCMJ0\", \"MJDH0\",     \"FMGD0\",\n",
    "    \"MGRT0\", \"MNJM0\",     \"FDHC0\",\n",
    "    \"MJLN0\", \"MPAM0\",     \"FMLD0\",\n",
    "}\n",
    "\n",
    "\n",
    "# compute the set of speakers to delete\n",
    "all_speakers = getAllSpeakers(Merged_test)\n",
    "del_speakers = all_speakers - core_test_speakers  # delete everyone else but core-test-speakers\n",
    "del_keys = deleteSpeakers(del_speakers, Merged_test)\n",
    "assert len(del_keys) == len(del_speakers)*8, \"8 record per speaker are supposed to be deleted!\"\n",
    "\n",
    "# show remaining\n",
    "rem_speakers = getAllSpeakers(Merged_test)\n",
    "print('Remaining test records:', len(Merged_test))\n",
    "print('Remaining Speakers:', len(rem_speakers), '\\n', rem_speakers)"
   ]
  },
  {
   "cell_type": "markdown",
   "id": "9b64e7ba",
   "metadata": {},
   "source": [
    "## Remove records missing phonetic file\n",
    "\n",
    "Cannot run training/testing without phoneme labels."
   ]
  },
  {
   "cell_type": "code",
   "execution_count": 12,
   "id": "85983270",
   "metadata": {},
   "outputs": [
    {
     "name": "stdout",
     "output_type": "stream",
     "text": [
      "INFO: Deleting 2352 records\n",
      "INFO: Deleting 0 records\n",
      "Merged_train: 1344\n",
      "Merged_test : 192\n"
     ]
    }
   ],
   "source": [
    "# Given a dataset dictionary, removes the records missing phonetic files\n",
    "def delNoPhone(dict_dataset):\n",
    "    del_keys = []\n",
    "    for key, record in dict_dataset.items():\n",
    "        if 'phonetic_file' not in record:\n",
    "            del_keys.append(key)\n",
    "    print(f'INFO: Deleting {len(del_keys)} records')\n",
    "    for key in del_keys: del(dict_dataset[key])\n",
    "    return del_keys\n",
    "\n",
    "\n",
    "# Delete missing phonetic file records\n",
    "delNoPhone(Merged_train)\n",
    "delNoPhone(Merged_test)\n",
    "\n",
    "print('Merged_train:', len(Merged_train))\n",
    "print('Merged_test :', len(Merged_test))\n"
   ]
  },
  {
   "cell_type": "markdown",
   "id": "18b05522",
   "metadata": {},
   "source": [
    "## Dataset audio durations"
   ]
  },
  {
   "cell_type": "code",
   "execution_count": 13,
   "id": "07a4fcea",
   "metadata": {},
   "outputs": [
    {
     "data": {
      "application/vnd.jupyter.widget-view+json": {
       "model_id": "45c8cf3b6f3840a8bfe7c6e18837ced1",
       "version_major": 2,
       "version_minor": 0
      },
      "text/plain": [
       "  0%|          | 0/1344 [00:00<?, ?it/s]"
      ]
     },
     "metadata": {},
     "output_type": "display_data"
    },
    {
     "name": "stdout",
     "output_type": "stream",
     "text": [
      "Duration of Train: 68 mins\n"
     ]
    },
    {
     "data": {
      "application/vnd.jupyter.widget-view+json": {
       "model_id": "8b2087da809a42e7b01453b09b506bb2",
       "version_major": 2,
       "version_minor": 0
      },
      "text/plain": [
       "  0%|          | 0/192 [00:00<?, ?it/s]"
      ]
     },
     "metadata": {},
     "output_type": "display_data"
    },
    {
     "name": "stdout",
     "output_type": "stream",
     "text": [
      "Duration of Test : 9 mins\n"
     ]
    }
   ],
   "source": [
    "# Given a dataset dictionary, returns the total audio length of the entire dataset in seconds\n",
    "def getDatasetDuration(dict_dataset):\n",
    "    total_duration = 0\n",
    "    for entry in tqdm(dict_dataset.values()):\n",
    "        audio_path = entry['audio_file']\n",
    "        audio_data, rate = librosa.load(audio_path, sr=None)\n",
    "        duration = len(audio_data) / rate\n",
    "        total_duration += duration\n",
    "    return int(total_duration)\n",
    "\n",
    "\n",
    "# Show the dataset audio durations in minutes\n",
    "print(f\"Duration of Train: {getDatasetDuration(Merged_train) // 60} mins\")\n",
    "print(f\"Duration of Test : {getDatasetDuration(Merged_test) // 60} mins\")"
   ]
  },
  {
   "cell_type": "markdown",
   "id": "10de9afa",
   "metadata": {},
   "source": [
    "# Build the Phoneme records\n",
    "\n",
    "Each audio file contains a sentence. Thus, a record in the dataset is a \"sentence record.\" We want to build phoneme records, which can be used to lookup the audio corresponding to the phoneme in the record.  \n",
    "The structure of the phoneme record is: (phoneme, path-to-audio, start-index, end-index)"
   ]
  },
  {
   "cell_type": "code",
   "execution_count": 14,
   "id": "d38471f3",
   "metadata": {},
   "outputs": [
    {
     "name": "stdout",
     "output_type": "stream",
     "text": [
      "sentence_record:\n"
     ]
    },
    {
     "data": {
      "text/plain": [
       "{'phonetic_file': './dataset/TIMIT/data/TRAIN/DR4/MCSS0/SX120.PHN',\n",
       " 'word_file': './dataset/TIMIT/data/TRAIN/DR4/MCSS0/SX120.WRD',\n",
       " 'sentence_file': './dataset/TIMIT/data/TRAIN/DR4/MCSS0/SX120.TXT',\n",
       " 'audio_file': './dataset/TIMIT/data/TRAIN/DR4/MCSS0/SX120.WAV'}"
      ]
     },
     "metadata": {},
     "output_type": "display_data"
    },
    {
     "name": "stdout",
     "output_type": "stream",
     "text": [
      "0 58164 The coyote, bobcat, and hyena are wild animals.\n",
      "\n"
     ]
    },
    {
     "data": {
      "text/html": [
       "\n",
       "                <audio  controls=\"controls\" >\n",
       "                    <source src=\"data:audio/wav;base64,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\" type=\"audio/wav\" />\n",
       "                    Your browser does not support the audio element.\n",
       "                </audio>\n",
       "              "
      ],
      "text/plain": [
       "<IPython.lib.display.Audio object>"
      ]
     },
     "execution_count": 14,
     "metadata": {},
     "output_type": "execute_result"
    }
   ],
   "source": [
    "# Extract a \"sentence record\" from the train_dataset\n",
    "train_keys = list(Merged_train.keys())\n",
    "sentence_record = Merged_train[train_keys[10]]\n",
    "print('sentence_record:')\n",
    "ipd.display(sentence_record)\n",
    "\n",
    "with open(sentence_record['sentence_file']) as infile:\n",
    "    line = infile.readline()\n",
    "    print(line)\n",
    "wave, rate = librosa.load(sentence_record['audio_file'], sr=None)\n",
    "ipd.Audio(wave, rate=rate)"
   ]
  },
  {
   "cell_type": "code",
   "execution_count": 15,
   "id": "57382ee6",
   "metadata": {},
   "outputs": [
    {
     "name": "stdout",
     "output_type": "stream",
     "text": [
      "Phoneme records: 38\n"
     ]
    },
    {
     "data": {
      "text/plain": [
       "[['h#', './dataset/TIMIT/data/TRAIN/DR4/MCSS0/SX120.WAV', 0, 1936],\n",
       " ['dh', './dataset/TIMIT/data/TRAIN/DR4/MCSS0/SX120.WAV', 1936, 2450],\n",
       " ['ix', './dataset/TIMIT/data/TRAIN/DR4/MCSS0/SX120.WAV', 2450, 3000],\n",
       " ['kcl', './dataset/TIMIT/data/TRAIN/DR4/MCSS0/SX120.WAV', 3000, 4370],\n",
       " ['k', './dataset/TIMIT/data/TRAIN/DR4/MCSS0/SX120.WAV', 4370, 5720],\n",
       " ['ay', './dataset/TIMIT/data/TRAIN/DR4/MCSS0/SX120.WAV', 5720, 8605],\n",
       " ['ow', './dataset/TIMIT/data/TRAIN/DR4/MCSS0/SX120.WAV', 8605, 10920],\n",
       " ['dx', './dataset/TIMIT/data/TRAIN/DR4/MCSS0/SX120.WAV', 10920, 11400],\n",
       " ['iy', './dataset/TIMIT/data/TRAIN/DR4/MCSS0/SX120.WAV', 11400, 13880],\n",
       " ['pau', './dataset/TIMIT/data/TRAIN/DR4/MCSS0/SX120.WAV', 13880, 18360]]"
      ]
     },
     "metadata": {},
     "output_type": "display_data"
    },
    {
     "name": "stdout",
     "output_type": "stream",
     "text": [
      "k\n"
     ]
    },
    {
     "data": {
      "text/html": [
       "\n",
       "                <audio  controls=\"controls\" >\n",
       "                    <source src=\"data:audio/wav;base64,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\" type=\"audio/wav\" />\n",
       "                    Your browser does not support the audio element.\n",
       "                </audio>\n",
       "              "
      ],
      "text/plain": [
       "<IPython.lib.display.Audio object>"
      ]
     },
     "execution_count": 15,
     "metadata": {},
     "output_type": "execute_result"
    }
   ],
   "source": [
    "# Function to convert a sentence record into a list of phoneme record.\n",
    "# Returns a list of tuples: (phoneme, path-to-audio, start-index, end-index)\n",
    "def makePhoneRecords(sentence_record):\n",
    "    audio_path = sentence_record['audio_file']\n",
    "    phone_path  = sentence_record['phonetic_file']\n",
    "    phone_records = []\n",
    "    with open(phone_path, 'r') as infile:\n",
    "        for line in infile:\n",
    "            start, end, phone = line.split()\n",
    "            phone_records.append( [phone, audio_path, int(start), int(end)] )\n",
    "    return phone_records\n",
    "\n",
    "\n",
    "# Test above function\n",
    "phone_records = makePhoneRecords(sentence_record)\n",
    "print('Phoneme records:', len(phone_records))\n",
    "ipd.display(phone_records[:10])\n",
    "\n",
    "phone_rec = phone_records[4]\n",
    "phone, audio_path, start, end = phone_rec\n",
    "wave, rate = librosa.load(audio_path, sr=None)\n",
    "wave = wave[start:end]   # slice the phoneme only\n",
    "print(phone)      # phoneme label\n",
    "ipd.Audio(wave, rate=rate)"
   ]
  },
  {
   "cell_type": "code",
   "execution_count": 16,
   "id": "cc09a708",
   "metadata": {},
   "outputs": [
    {
     "name": "stdout",
     "output_type": "stream",
     "text": [
      "Train_phone_ds: 51848\n",
      "Test_phone_ds : 7333\n"
     ]
    },
    {
     "data": {
      "text/plain": [
       "[['h#', './dataset/TIMIT/data/TRAIN/DR4/MMDM0/SI1311.WAV', 0, 2680],\n",
       " ['s', './dataset/TIMIT/data/TRAIN/DR4/MMDM0/SI1311.WAV', 2680, 5640],\n",
       " ['ao', './dataset/TIMIT/data/TRAIN/DR4/MMDM0/SI1311.WAV', 5640, 7853]]"
      ]
     },
     "metadata": {},
     "output_type": "display_data"
    },
    {
     "data": {
      "text/plain": [
       "[['h#', './dataset/TIMIT/data/TEST/DR4/MTLS0/SX290.WAV', 0, 2370],\n",
       " ['dh', './dataset/TIMIT/data/TEST/DR4/MTLS0/SX290.WAV', 2370, 2780],\n",
       " ['ih', './dataset/TIMIT/data/TEST/DR4/MTLS0/SX290.WAV', 2780, 3880]]"
      ]
     },
     "metadata": {},
     "output_type": "display_data"
    }
   ],
   "source": [
    "# given a sentence dictionary dataset, returns a list of phoneme records\n",
    "def makePhoneDataset(dict_dataset):\n",
    "    phone_ds = []\n",
    "    for key, sent_rec in dict_dataset.items():\n",
    "        phone_rec_list = makePhoneRecords(sent_rec)\n",
    "        phone_ds.extend(phone_rec_list)\n",
    "    return phone_ds\n",
    "\n",
    "\n",
    "# Convert to phoneme datasets\n",
    "Train_phone_ds = makePhoneDataset(Merged_train)\n",
    "Test_phone_ds = makePhoneDataset(Merged_test)\n",
    "\n",
    "print('Train_phone_ds:', len(Train_phone_ds))\n",
    "print('Test_phone_ds :', len(Test_phone_ds))\n",
    "\n",
    "ipd.display(Train_phone_ds[:3])\n",
    "ipd.display(Test_phone_ds[:3])"
   ]
  },
  {
   "cell_type": "markdown",
   "id": "b9405350",
   "metadata": {},
   "source": [
    "# Remap Phonemes 61 to 39 classes\n",
    "\n",
    "As we can see the result below, there are 61 phones. However, we don't need to use all of them. \"tcl\", for example, is just a pause where there is a \"t\". So, let's keep it up and simplify them a bit.\n",
    "\n",
    "**NOTE:** The 61 phones defined in TIMIT dataset are remapped to 39 English phones. For details checkout the papers \n",
    "[[1]](https://ieeexplore.ieee.org/stamp/stamp.jsp?arnumber=46546)\n",
    "[[2]](https://ieeexplore.ieee.org/stamp/stamp.jsp?arnumber=6638947)"
   ]
  },
  {
   "cell_type": "code",
   "execution_count": 17,
   "id": "9161b74a",
   "metadata": {},
   "outputs": [
    {
     "name": "stdout",
     "output_type": "stream",
     "text": [
      "all_labels: 61 {'d', 'w', 'ax-h', 'uh', 's', 'epi', 'el', 'ix', 't', 'ng', 'aw', 'eh', 'dcl', 'k', 'oy', 'nx', 'p', 'ux', 'hh', 'sh', 'm', 'ay', 'er', 'b', 'dx', 'r', 'ey', 'ih', 'kcl', 'f', 'en', 'bcl', 'hv', 'h#', 'pcl', 'dh', 'ax', 'v', 'q', 'l', 'ae', 'uw', 'g', 'em', 'eng', 'jh', 'th', 'y', 'ow', 'gcl', 'zh', 'aa', 'n', 'pau', 'tcl', 'ah', 'ch', 'ao', 'iy', 'z', 'axr'}\n",
      "Before remap: [['a', 'dummy', 0, 1], ['b', 'dummy', 2, 3]]\n",
      "After remap: [['x', 'dummy', 0, 1], ['y', 'dummy', 2, 3]]\n"
     ]
    }
   ],
   "source": [
    "# Given a list of phone-records, remaps the labels using the phone_map dictionary.\n",
    "# list_phoneRecords[i]: (phoneme, path-to-audio, start-index, end-index)\n",
    "# phone_map: {old_phone: new_phone}\n",
    "def remapLabels(list_phoneRecords, phone_map):\n",
    "    for rec in list_phoneRecords:\n",
    "        rec[0] = phone_map[rec[0]]\n",
    "    return list_phoneRecords\n",
    "\n",
    "\n",
    "# Given a list of phone-records, returns the set of all labels\n",
    "def getAllLabels(list_phoneRecords):\n",
    "    labels = set()\n",
    "    for rec in list_phoneRecords:\n",
    "        labels.add(rec[0])\n",
    "    return labels\n",
    "    \n",
    "    \n",
    "# Test above functions\n",
    "all_labels = getAllLabels(Test_phone_ds)\n",
    "print('all_labels:', len(all_labels), all_labels)\n",
    "\n",
    "\n",
    "test_reclist = [['a', 'dummy', 0, 1], \n",
    "                ['b', 'dummy', 2, 3]]\n",
    "remap = {'a': 'x', 'b': 'y'}\n",
    "\n",
    "print('Before remap:', test_reclist)\n",
    "remapLabels(test_reclist, remap)\n",
    "print('After remap:', test_reclist)"
   ]
  },
  {
   "cell_type": "code",
   "execution_count": 18,
   "id": "ce8ca54d",
   "metadata": {},
   "outputs": [
    {
     "name": "stdout",
     "output_type": "stream",
     "text": [
      "Before remap ----\n",
      "all_train_labels: 61 \n",
      " {'d', 'w', 'ax-h', 'uh', 's', 'epi', 'el', 'ix', 'ng', 't', 'aw', 'eh', 'dcl', 'k', 'nx', 'oy', 'p', 'ux', 'hh', 'sh', 'ay', 'm', 'b', 'er', 'dx', 'r', 'ey', 'ih', 'kcl', 'hv', 'en', 'f', 'bcl', 'h#', 'pcl', 'dh', 'ae', 'v', 'q', 'l', 'ax', 'uw', 'g', 'em', 'eng', 'jh', 'th', 'y', 'gcl', 'ow', 'zh', 'aa', 'n', 'pau', 'tcl', 'ah', 'ch', 'ao', 'iy', 'z', 'axr'}\n",
      "\n",
      "all_test_labels: 61 \n",
      " {'d', 'w', 'ax-h', 'uh', 's', 'epi', 'el', 'ix', 't', 'ng', 'aw', 'eh', 'dcl', 'k', 'oy', 'nx', 'p', 'ux', 'hh', 'sh', 'm', 'ay', 'er', 'b', 'dx', 'r', 'ey', 'ih', 'kcl', 'f', 'en', 'bcl', 'hv', 'h#', 'pcl', 'dh', 'ax', 'v', 'q', 'l', 'ae', 'uw', 'g', 'em', 'eng', 'jh', 'th', 'y', 'ow', 'gcl', 'zh', 'aa', 'n', 'pau', 'tcl', 'ah', 'ch', 'ao', 'iy', 'z', 'axr'}\n"
     ]
    }
   ],
   "source": [
    "# TimitBet 61 phoneme mapping to 39 phonemes\n",
    "# by Lee, K.-F., & Hon, H.-W. (1989). Speaker-independent phone recognition using hidden Markov models. IEEE Transactions on Acoustics, Speech, and Signal Processing, 37(11), 1641–1648. doi:10.1109/29.46546 \n",
    "phon61_map39 = {\n",
    "    'iy':'iy',  'ih':'ih',   'eh':'eh',  'ae':'ae',    'ix':'ih',   'ax':'ah',   'ah':'ah',   'uw':'uw',\n",
    "    'ux':'uw',  'uh':'uh',   'ao':'aa',  'aa':'aa',    'ey':'ey',   'ay':'ay',   'oy':'oy',   'aw':'aw',\n",
    "    'ow':'ow',  'l':'l',     'el':'l',   'r':'r',      'y':'y',     'w':'w',     'er':'er',   'axr':'er',\n",
    "    'm':'m',    'em':'m',    'n':'n',    'nx':'n',     'en':'n',    'ng':'ng',   'eng':'ng',  'ch':'ch',\n",
    "    'jh':'jh',  'dh':'dh',   'b':'b',    'd':'d',      'dx':'dx',   'g':'g',     'p':'p',     't':'t',\n",
    "    'k':'k',    'z':'z',     'zh':'sh',  'v':'v',      'f':'f',     'th':'th',   's':'s',     'sh':'sh',\n",
    "    'hh':'hh',  'hv':'hh',   'pcl':'h#', 'tcl':'h#',   'kcl':'h#',  'qcl':'h#',  'bcl':'h#',  'dcl':'h#',\n",
    "    'gcl':'h#', 'h#':'h#',   '#h':'h#',  'pau':'h#',   'epi': 'h#', 'nx':'n',    'ax-h':'ah', 'q':'h#' \n",
    "}\n",
    "\n",
    "\n",
    "# Check the status before remap\n",
    "all_train_labels = getAllLabels(Train_phone_ds)\n",
    "all_test_labels  = getAllLabels(Test_phone_ds)\n",
    "print('Before remap ----')\n",
    "print('\\nall_train_labels:', len(all_train_labels), '\\n', all_train_labels)\n",
    "print('\\nall_test_labels:', len(all_test_labels), '\\n', all_test_labels)"
   ]
  },
  {
   "cell_type": "code",
   "execution_count": 19,
   "id": "461dde49",
   "metadata": {},
   "outputs": [
    {
     "name": "stdout",
     "output_type": "stream",
     "text": [
      "\n",
      "After remap ----\n",
      "\n",
      "all_train_labels: 39 \n",
      " {'d', 'w', 'uh', 's', 't', 'ng', 'aw', 'eh', 'k', 'oy', 'p', 'hh', 'sh', 'ay', 'm', 'b', 'er', 'dx', 'r', 'ey', 'ih', 'f', 'h#', 'ae', 'dh', 'v', 'l', 'uw', 'g', 'jh', 'th', 'y', 'ow', 'aa', 'n', 'ah', 'ch', 'iy', 'z'}\n",
      "\n",
      "all_test_labels: 39 \n",
      " {'d', 'w', 'uh', 's', 't', 'ng', 'aw', 'eh', 'k', 'oy', 'p', 'hh', 'sh', 'ay', 'm', 'er', 'b', 'dx', 'r', 'ey', 'ih', 'f', 'h#', 'ae', 'dh', 'v', 'l', 'uw', 'g', 'jh', 'th', 'y', 'ow', 'aa', 'n', 'ah', 'ch', 'iy', 'z'}\n",
      "\n",
      "Train:\n"
     ]
    },
    {
     "data": {
      "text/plain": [
       "[['h#', './dataset/TIMIT/data/TRAIN/DR4/MMDM0/SI1311.WAV', 0, 2680],\n",
       " ['s', './dataset/TIMIT/data/TRAIN/DR4/MMDM0/SI1311.WAV', 2680, 5640],\n",
       " ['aa', './dataset/TIMIT/data/TRAIN/DR4/MMDM0/SI1311.WAV', 5640, 7853]]"
      ]
     },
     "metadata": {},
     "output_type": "display_data"
    },
    {
     "name": "stdout",
     "output_type": "stream",
     "text": [
      "Test:\n"
     ]
    },
    {
     "data": {
      "text/plain": [
       "[['h#', './dataset/TIMIT/data/TEST/DR4/MTLS0/SX290.WAV', 0, 2370],\n",
       " ['dh', './dataset/TIMIT/data/TEST/DR4/MTLS0/SX290.WAV', 2370, 2780],\n",
       " ['ih', './dataset/TIMIT/data/TEST/DR4/MTLS0/SX290.WAV', 2780, 3880]]"
      ]
     },
     "metadata": {},
     "output_type": "display_data"
    }
   ],
   "source": [
    "# Remap and check\n",
    "remapLabels(Train_phone_ds, phon61_map39)\n",
    "remapLabels(Test_phone_ds, phon61_map39)\n",
    "\n",
    "all_train_labels = getAllLabels(Train_phone_ds)\n",
    "all_test_labels  = getAllLabels(Test_phone_ds)\n",
    "print('\\nAfter remap ----')\n",
    "print('\\nall_train_labels:', len(all_train_labels), '\\n', all_train_labels)\n",
    "print('\\nall_test_labels:', len(all_test_labels), '\\n', all_test_labels)\n",
    "\n",
    "print('\\nTrain:'); ipd.display(Train_phone_ds[:3])\n",
    "print('Test:'); ipd.display(Test_phone_ds[:3])"
   ]
  },
  {
   "cell_type": "markdown",
   "id": "9e2418bd",
   "metadata": {},
   "source": [
    "# Export the datasets"
   ]
  },
  {
   "cell_type": "code",
   "execution_count": 21,
   "id": "115e28e7",
   "metadata": {},
   "outputs": [
    {
     "name": "stdout",
     "output_type": "stream",
     "text": [
      "total 1.3M\r\n",
      "-rw-rw-r-- 1 makabir makabir  310 Jun 24 16:57 README.md\r\n",
      "-rw-rw-r-- 1 makabir makabir 1.3M Jun 26 12:52 curated-dataset.pt\r\n"
     ]
    }
   ],
   "source": [
    "# Export the dataset with necessary information for the next notebook\n",
    "note = '''\n",
    "Notes:\n",
    "- Phoneme record structure: (phoneme, path-to-audio, start-index, end-index)\n",
    "- The dataset into train and test subsets.\n",
    "- Some data is filtered according to a reference paper\n",
    "    - SA records are removed from both datasets.\n",
    "    - Only core test subset with 24 speakers are exported for testing.\n",
    "    - Records missing phonetic-file (phoneme labels) are removed.\n",
    "- Remapped phoneme from 61 to 39 classes.\n",
    "'''\n",
    "\n",
    "export_dict = {\n",
    "    'note'  : note,\n",
    "    'train' : Train_phone_ds,\n",
    "    'test'  : Test_phone_ds,\n",
    "}\n",
    "\n",
    "\n",
    "# Save into an external file\n",
    "save_path = './session/curated-dataset.pt'\n",
    "torch.save(export_dict, save_path)\n",
    "!ls -ltrh './session/'"
   ]
  }
 ],
 "metadata": {
  "kernelspec": {
   "display_name": "Python 3 (ipykernel)",
   "language": "python",
   "name": "python3"
  },
  "language_info": {
   "codemirror_mode": {
    "name": "ipython",
    "version": 3
   },
   "file_extension": ".py",
   "mimetype": "text/x-python",
   "name": "python",
   "nbconvert_exporter": "python",
   "pygments_lexer": "ipython3",
   "version": "3.10.11"
  },
  "toc": {
   "base_numbering": 1,
   "nav_menu": {},
   "number_sections": true,
   "sideBar": true,
   "skip_h1_title": false,
   "title_cell": "Table of Contents",
   "title_sidebar": "Contents",
   "toc_cell": false,
   "toc_position": {},
   "toc_section_display": true,
   "toc_window_display": false
  }
 },
 "nbformat": 4,
 "nbformat_minor": 5
}
