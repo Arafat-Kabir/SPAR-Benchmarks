{
 "cells": [
  {
   "cell_type": "markdown",
   "id": "f1b5a119",
   "metadata": {},
   "source": [
    "# Export MLP-12 Model and Dataset as C source files\n",
    "\n",
    "**Goals:**\n",
    "- Load the Model and Dataset from the SQLite3 databases.\n",
    "- Export Model parameters as C source file.\n",
    "    - A header file with struct and extern definitions\n",
    "    - A C file with actual values as array of structs\n",
    "- Export a subset of Test Dataset as C source file.\n",
    "    - A header file with record-struct and extern definitions\n",
    "    - A C file with actual values as array of structs"
   ]
  },
  {
   "cell_type": "markdown",
   "id": "da4738ee",
   "metadata": {},
   "source": [
    "# Load Floating-Point Model Parameters and Datset\n",
    "\n",
    "Here, the model and the dataset exported by the Numpy model extraction notebook is loaded."
   ]
  },
  {
   "cell_type": "code",
   "execution_count": null,
   "id": "7d8e4e14",
   "metadata": {},
   "outputs": [],
   "source": [
    "# Delete the cache and import sqlite3 utilities\n",
    "!rm -rf __pycache__/\n",
    "from utilsqlite3 import *"
   ]
  },
  {
   "cell_type": "markdown",
   "id": "4bf40c7c",
   "metadata": {},
   "source": [
    "## Load the Dataset"
   ]
  },
  {
   "cell_type": "code",
   "execution_count": null,
   "id": "00c60127",
   "metadata": {},
   "outputs": [],
   "source": [
    "# Load and check the dataset table\n",
    "Dataset_path = './saved/mnist_test_data-94.00p.s3db'\n",
    "\n",
    "table_names = getTableNames(Dataset_path)\n",
    "print('table_names:', table_names)\n",
    "\n",
    "# Read the header table\n",
    "header_records =  getRecords(Dataset_path, 'Header')\n",
    "header_dict = {}\n",
    "print('')\n",
    "for r in header_records: \n",
    "    print(r[1:3])\n",
    "    header_dict[r[1]] = r[2]\n",
    "    \n",
    "# Get the table names\n",
    "Data_table = header_dict['dataset.table']\n",
    "Feature_table = header_dict['features.table']\n",
    "Label_table = header_dict['labels.table']\n",
    "print('')\n",
    "print('Data_table:', Data_table)\n",
    "print('Feature_table:', Feature_table)\n",
    "print('Label_table:', Label_table)"
   ]
  },
  {
   "cell_type": "code",
   "execution_count": null,
   "id": "97c7b0a7",
   "metadata": {},
   "outputs": [],
   "source": [
    "# Read the label_to_index dictionary\n",
    "labels_records = getRecords(Dataset_path, Label_table)\n",
    "print('labels_records:', labels_records)\n",
    "\n",
    "Label_to_index = {label:index for (index, label) in labels_records}\n",
    "Index_to_label = {index:label for (index, label) in labels_records}\n",
    "print('Label_to_index:', Label_to_index)\n",
    "print('Index_to_label:', Index_to_label)"
   ]
  },
  {
   "cell_type": "markdown",
   "id": "552007f6",
   "metadata": {},
   "source": [
    "### Build the Dataset Array"
   ]
  },
  {
   "cell_type": "code",
   "execution_count": null,
   "id": "1ec1a0f2",
   "metadata": {},
   "outputs": [],
   "source": [
    "import numpy as np\n",
    "import dataclasses\n",
    "from dataclasses import dataclass, asdict\n",
    "from typing import List\n",
    "\n",
    "\n",
    "# Dataset item class\n",
    "@dataclass\n",
    "class DataItem:\n",
    "    label: str\n",
    "    label_index: int\n",
    "    predicted_index: int\n",
    "    feature_vec: List[np.float32]\n",
    "        \n",
    "    def getItemSummary(self):\n",
    "        return str((self.label, self.label_index, self.predicted_index, self.feature_vec.shape))"
   ]
  },
  {
   "cell_type": "code",
   "execution_count": null,
   "id": "d73c1f8e",
   "metadata": {},
   "outputs": [],
   "source": [
    "# Read the features and data-item records then merge them\n",
    "# Make the feature_id:feature_vec map\n",
    "feat_records = getRecords(Dataset_path, Feature_table)\n",
    "featid_map = {}\n",
    "for r in feat_records:\n",
    "    feat_id = r[0]       # first column is the feature ID\n",
    "    feat_vec = r[1:]\n",
    "    featid_map[feat_id]  = feat_vec\n",
    "\n",
    "    \n",
    "# Read the data-items and put them in DataItem array\n",
    "Dataset = []\n",
    "data_records = getRecords(Dataset_path, Data_table)\n",
    "data_schema = getColNames(Dataset_path, Data_table)\n",
    "print('data_schema:', data_schema)\n",
    "\n",
    "for r in data_records:\n",
    "    label = r[1]\n",
    "    label_index = r[2]\n",
    "    pred_index = r[3]\n",
    "    feat_id = r[4]\n",
    "    feat_vec = np.array(featid_map[feat_id], dtype=np.float32)\n",
    "    item = DataItem(label, label_index, pred_index, feat_vec)\n",
    "    Dataset.append(item)\n",
    "\n",
    "item = Dataset[0]\n",
    "print('Dataset:', len(Dataset))\n",
    "print('item:', item.getItemSummary())"
   ]
  },
  {
   "cell_type": "code",
   "execution_count": null,
   "id": "34b859dc",
   "metadata": {},
   "outputs": [],
   "source": [
    "# Delete names to avoid confusion later\n",
    "del table_names, r, labels_records, header_records, header_dict"
   ]
  },
  {
   "cell_type": "markdown",
   "id": "157b0fb7",
   "metadata": {},
   "source": [
    "## Load the Trained Model"
   ]
  },
  {
   "cell_type": "code",
   "execution_count": null,
   "id": "77c93b29",
   "metadata": {},
   "outputs": [],
   "source": [
    "# Load and check the model parameters table\n",
    "Model_path = './saved/trained-mlp12-94.00p.s3db'\n",
    "\n",
    "table_names = getTableNames(Model_path)\n",
    "print('table_names:', table_names)\n",
    "\n",
    "# Read the header table\n",
    "header_records =  getRecords(Model_path, 'Header')\n",
    "Header_dict = {}\n",
    "print('')\n",
    "for r in header_records: \n",
    "    print(r[1:3])\n",
    "    Header_dict[r[1]] = r[2]\n",
    "\n",
    "\n",
    "# Get the table names for later use\n",
    "Fc1w_table = Header_dict['fc1.weight.table']\n",
    "Fc1b_table = Header_dict['fc1.bias.table']\n",
    "Fc2w_table = Header_dict['fc2.weight.table']\n",
    "Fc2b_table = Header_dict['fc2.bias.table']"
   ]
  },
  {
   "cell_type": "code",
   "execution_count": null,
   "id": "6148e286",
   "metadata": {},
   "outputs": [],
   "source": [
    "# Returns a table saved using createMatrixTable as a list of tuples\n",
    "def readMatrixTable(db_path, table_name):\n",
    "    # read the records\n",
    "    rec_list = getRecords(db_path, table_name)\n",
    "    # build the matrix\n",
    "    rec_list.sort()         # sort by row_no (first column)\n",
    "    matrix = []\n",
    "    for rec in rec_list:\n",
    "        matrix.append(rec[1:])  # stripe off the row_no columns\n",
    "    return matrix\n",
    "\n",
    "\n",
    "# test this functions\n",
    "mat1 = np.array(readMatrixTable(Model_path, Fc1w_table))\n",
    "mat1.shape"
   ]
  },
  {
   "cell_type": "code",
   "execution_count": null,
   "id": "30b886ed",
   "metadata": {},
   "outputs": [],
   "source": [
    "# Returns the weights and biases as a dictionary\n",
    "def readModelParams(db_path, table_names):\n",
    "    model_params = {}\n",
    "    for name in table_names:\n",
    "        # read the matrix as a list of tuples\n",
    "        mat = readMatrixTable(db_path, name)\n",
    "        # Check if it is a matrix or a vector\n",
    "        if len(mat)==1: is_vector = True\n",
    "        else: is_vector = False\n",
    "        # convert to numpy array\n",
    "        if is_vector: mat = np.array(mat[0])    # make a 1D array for vectors\n",
    "        else: mat = np.array(mat)\n",
    "        # save it for returning\n",
    "        model_params[name] = mat\n",
    "    return model_params\n",
    "\n",
    "\n",
    "# List of table names for running loop\n",
    "ParamTable_names = [\n",
    "    Fc1w_table,\n",
    "    Fc1b_table,\n",
    "    Fc2w_table,\n",
    "    Fc2b_table,\n",
    "]\n",
    "print('ParamTable_names:', ParamTable_names)\n",
    "\n",
    "# Read the model parameters as numpy matrix/vectors\n",
    "model_params = readModelParams(Model_path, ParamTable_names)\n",
    "for k, v in model_params.items():\n",
    "    print(f'{k}:', v.shape, v.dtype)"
   ]
  },
  {
   "cell_type": "code",
   "execution_count": null,
   "id": "8f4f6066",
   "metadata": {},
   "outputs": [],
   "source": [
    "# Model Parameters class\n",
    "@dataclass\n",
    "class mlp12_Params:\n",
    "    fc1_weight: np.ndarray\n",
    "    fc2_weight: np.ndarray\n",
    "    fc1_bias: np.ndarray\n",
    "    fc2_bias: np.ndarray\n",
    "        \n",
    "\n",
    "# Instantiate the model parameter class with float32 datatype\n",
    "Model_params = mlp12_Params(\n",
    "    model_params[Fc1w_table].astype(np.float32),\n",
    "    model_params[Fc2w_table].astype(np.float32),\n",
    "    model_params[Fc1b_table].astype(np.float32),\n",
    "    model_params[Fc2b_table].astype(np.float32),\n",
    ")\n",
    "\n",
    "# Show the parameter info\n",
    "for field in dataclasses.fields(Model_params):\n",
    "    field_value = getattr(Model_params, field.name)\n",
    "    print(field.name+':', field_value.shape, field_value.dtype)"
   ]
  },
  {
   "cell_type": "code",
   "execution_count": null,
   "id": "c6e02d30",
   "metadata": {},
   "outputs": [],
   "source": [
    "del feat_id, feat_records, feat_vec, featid_map, field, field_value\n",
    "del item, k, label, label_index, mat1, pred_index, r, v, table_names"
   ]
  },
  {
   "cell_type": "markdown",
   "id": "0b6483cb",
   "metadata": {},
   "source": [
    "# Export The Model\n",
    "\n",
    "**Structs:**\n",
    "\n",
    "- A Matrix type struct\n",
    "- A Vector type struct\n",
    "- A model parameter type struct\n",
    "    - Will be composed on matrix and vector structs\n",
    "    - Can have additional fields with metadata"
   ]
  },
  {
   "cell_type": "markdown",
   "id": "7bbf5075",
   "metadata": {},
   "source": [
    "## Export Model Header"
   ]
  },
  {
   "cell_type": "code",
   "execution_count": null,
   "id": "bdbcee70",
   "metadata": {},
   "outputs": [],
   "source": [
    "# Define Header file components\n",
    "\n",
    "header_guard = \"MODEL_MLP12_H\"\n",
    "includes = '''\n",
    "#include <stdint.h>\n",
    "'''\n",
    "\n",
    "matrix_struct = '''\n",
    "// Floating point matrix\n",
    "typedef struct {\n",
    "  uint32_t row_cnt;\n",
    "  uint32_t col_cnt;\n",
    "  float *elements;       // 2D array of floats\n",
    "} mlp12_Matrix_fl;\n",
    "'''\n",
    "\n",
    "vector_struct = '''\n",
    "// Floating point vector\n",
    "typedef struct {\n",
    "  uint32_t vec_len;\n",
    "  float *elements;       // 1D array of floats\n",
    "} mlp12_Vector_fl;\n",
    "'''\n",
    "\n",
    "Param_struct_name = \"mlp12_Params_fl\"\n",
    "param_struct = f'''\n",
    "// Trained wieghts as floating point numbers\n",
    "typedef struct {{\n",
    "  // metadata\n",
    "  float accuracy;\n",
    "  char *summary;     // A human-readable string\n",
    "\n",
    "  // model trained parameters\n",
    "  mlp12_Matrix_fl   fc1_weight;\n",
    "  mlp12_Matrix_fl   fc2_weight;\n",
    "  mlp12_Vector_fl   fc1_bias;\n",
    "  mlp12_Vector_fl   fc2_bias;\n",
    "\n",
    "}} {Param_struct_name};\n",
    "'''"
   ]
  },
  {
   "cell_type": "code",
   "execution_count": null,
   "id": "7e7f90fa",
   "metadata": {},
   "outputs": [],
   "source": [
    "# Build the Header template\n",
    "from string import Template\n",
    "\n",
    "Param_inst_name = 'mlp12_trained_params'\n",
    "header_template = Template(f'''\n",
    "#ifndef $header_guard\n",
    "#define $header_guard\n",
    "\n",
    "$includes\n",
    "\n",
    "$matrix_struct\n",
    "$vector_struct\n",
    "$param_struct\n",
    "\n",
    "extern const {Param_struct_name}  {Param_inst_name};\n",
    "\n",
    "\n",
    "#endif  // $header_guard\n",
    "''')"
   ]
  },
  {
   "cell_type": "code",
   "execution_count": null,
   "id": "78a446ba",
   "metadata": {},
   "outputs": [],
   "source": [
    "# Generate header content and save it in a file\n",
    "Header_filename = 'mlp12_params.h'\n",
    "save_path = './c-impl/' + Header_filename\n",
    "header_content = header_template.substitute(\n",
    "    header_guard=header_guard, includes=includes, \n",
    "    matrix_struct=matrix_struct, vector_struct=vector_struct,\n",
    "    param_struct=param_struct\n",
    ")\n",
    "\n",
    "#print(header_content)\n",
    "with open(save_path, 'w') as outfile:\n",
    "    outfile.write(header_content)\n",
    "print(f\"INFO: Saved header file {save_path}\")"
   ]
  },
  {
   "cell_type": "code",
   "execution_count": null,
   "id": "15cd8626",
   "metadata": {},
   "outputs": [],
   "source": [
    "del header_guard, includes, matrix_struct, vector_struct, param_struct\n",
    "del save_path, outfile, header_template, header_content, header_records\n",
    "del data_records, data_schema"
   ]
  },
  {
   "cell_type": "markdown",
   "id": "d07b7143",
   "metadata": {},
   "source": [
    "## Export Model Parameters"
   ]
  },
  {
   "cell_type": "code",
   "execution_count": null,
   "id": "f6d6bc61",
   "metadata": {},
   "outputs": [],
   "source": [
    "## Formatting Functions\n",
    "# Given a numpy vector, returns a C-source string\n",
    "def csourceVector(np_vec):\n",
    "    elems = []\n",
    "    for e in np_vec: elems.append(f'{e:18.10e}')   # keep 10 digits of precision\n",
    "    return ', '.join(elems)\n",
    "    \n",
    "    \n",
    "# Given a numpy matrix, returns a C-source string,\n",
    "# one row per line.\n",
    "def csourceMatrix(np_matrix):\n",
    "    lines = []\n",
    "    for row in np_matrix:\n",
    "        lines.append(csourceVector(row))\n",
    "    return ', \\n'.join(lines)\n",
    "\n",
    "\n",
    "# Given a parameter, returns as C-source string of the parameter values\n",
    "def csourceParam(param):\n",
    "    if len(param.shape)==1:\n",
    "        return csourceVector(param)\n",
    "    else:\n",
    "        return csourceMatrix(param)\n",
    "    \n",
    "    \n",
    "# Test\n",
    "print(csourceParam(Model_params.fc1_bias[:4]))\n",
    "print('')\n",
    "print(csourceParam(Model_params.fc1_weight[:6, :4]))"
   ]
  },
  {
   "cell_type": "code",
   "execution_count": null,
   "id": "5572e95f",
   "metadata": {},
   "outputs": [],
   "source": [
    "## Generate C-source\n",
    "# define templates\n",
    "Cstatic_2D_template = Template('''\n",
    "static float   $name[$row_cnt][$col_cnt] = {\n",
    "$values\n",
    "};\n",
    "''')\n",
    "\n",
    "Cstatic_1D_template = Template('''\n",
    "static float   $name[$elem_cnt] = {\n",
    "$values\n",
    "};\n",
    "''')\n",
    "\n",
    "\n",
    "# Given a parameter, returns C-source for static float array\n",
    "def makeCstaticArray(name, values):\n",
    "    str_vals = csourceParam(values)\n",
    "    if len(values.shape) == 1:\n",
    "        elem_cnt = len(values)\n",
    "        str_out = Cstatic_1D_template.substitute(name=name, elem_cnt=elem_cnt, values=str_vals)\n",
    "    else:\n",
    "        row, col = values.shape\n",
    "        str_out = Cstatic_2D_template.substitute(name=name, row_cnt=row, col_cnt=col, values=str_vals)\n",
    "    return str_out\n",
    "    \n",
    "\n",
    "\n",
    "# Build a dictionary of C-source parameter static arrays\n",
    "params_dict = asdict(Model_params)\n",
    "params_src = {}\n",
    "for name, val in params_dict.items():\n",
    "    params_src[name] = makeCstaticArray(name, val)"
   ]
  },
  {
   "cell_type": "code",
   "execution_count": null,
   "id": "0ddeb73a",
   "metadata": {},
   "outputs": [],
   "source": [
    "# Build the C-source elements\n",
    "param_template = Template('''\n",
    "#include \"$header_filename\"\n",
    "\n",
    "$static_arrays\n",
    "\n",
    "const $param_struct_name   $param_inst_name = {\n",
    "$field_assignment\n",
    "};\n",
    "''')\n",
    "\n",
    "\n",
    "# Build template substitutions\n",
    "static_arrays = [val for val in params_src.values()]\n",
    "static_arrays = '\\n'.join(static_arrays)"
   ]
  },
  {
   "cell_type": "code",
   "execution_count": null,
   "id": "4d70a192",
   "metadata": {},
   "outputs": [],
   "source": [
    "# field assignment for parameter object initialization\n",
    "fc1_row_cnt, fc1_col_cnt = params_dict['fc1_weight'].shape\n",
    "fc2_row_cnt, fc2_col_cnt = params_dict['fc2_weight'].shape\n",
    "field_assignment = [\n",
    "    f'.accuracy = {Header_dict[\"accuracy\"]}',\n",
    "    f'.summary = \"MLP-12 for MNIST\"',\n",
    "#    f'.fc1_row_cnt = {fc1_row_cnt}',\n",
    "#    f'.fc1_col_cnt = {fc1_col_cnt}',\n",
    "#    f'.fc2_row_cnt = {fc2_row_cnt}',\n",
    "#    f'.fc2_col_cnt = {fc2_col_cnt}',\n",
    "]\n",
    "for k, v in params_dict.items():\n",
    "    isvector = (len(v.shape) == 1)\n",
    "    if isvector:\n",
    "        vec_len = len(params_dict[k])\n",
    "        field = f'.{k} = {{ {vec_len}, (float*){k} }}'\n",
    "    else:\n",
    "        row, col = v.shape\n",
    "        field = f'.{k} = {{ {row}, {col}, (float*){k} }}'\n",
    "    field_assignment.append(field)\n",
    "\n",
    "field_assignment = ',\\n'.join(field_assignment)\n",
    "print(field_assignment)"
   ]
  },
  {
   "cell_type": "code",
   "execution_count": null,
   "id": "ea2aa580",
   "metadata": {},
   "outputs": [],
   "source": [
    "# Build the C-source then save\n",
    "save_path = './c-impl/mlp12_params.c'\n",
    "c_source = param_template.substitute(header_filename=Header_filename, static_arrays=static_arrays,\n",
    "                                     param_struct_name=Param_struct_name, param_inst_name=Param_inst_name,\n",
    "                                     field_assignment=field_assignment)\n",
    "\n",
    "with open(save_path, 'w') as outfile:\n",
    "    outfile.write(c_source)\n",
    "print(f\"INFO: Saved file {save_path}\")"
   ]
  },
  {
   "cell_type": "code",
   "execution_count": null,
   "id": "0560844a",
   "metadata": {},
   "outputs": [],
   "source": [
    "del val, vec_len, v, static_arrays, save_path, row, params_src\n",
    "del params_dict, param_template, outfile, name, model_params, k\n",
    "del isvector, field, field_assignment, col, c_source"
   ]
  },
  {
   "cell_type": "markdown",
   "id": "4fbcf5c9",
   "metadata": {},
   "source": [
    "# Export Test Dataset"
   ]
  },
  {
   "cell_type": "markdown",
   "id": "ce65f21c",
   "metadata": {},
   "source": [
    "## Export Dataset Header"
   ]
  },
  {
   "cell_type": "code",
   "execution_count": null,
   "id": "822883c7",
   "metadata": {},
   "outputs": [],
   "source": [
    "# Define Header file components\n",
    "\n",
    "header_guard = \"DATASET_MNIST_H\"\n",
    "includes = '''\n",
    "#include <stdint.h>\n",
    "'''\n",
    "\n",
    "Record_struct_name = \"mnist_record\"\n",
    "record_struct = f'''\n",
    "// An element of the dataset array\n",
    "typedef struct {{\n",
    "  uint8_t label_index;\n",
    "  uint8_t predicted_index;\n",
    "  float   feature_vec[784];\n",
    "}} {Record_struct_name} ;\n",
    "'''\n",
    "\n",
    "print(record_struct)"
   ]
  },
  {
   "cell_type": "code",
   "execution_count": null,
   "id": "66ad43ee",
   "metadata": {},
   "outputs": [],
   "source": [
    "# Build the Header template\n",
    "Export_len = 1000\n",
    "Dataset_inst_name = 'mnist_dataset'\n",
    "\n",
    "header_template = Template(f'''\n",
    "#ifndef $header_guard\n",
    "#define $header_guard\n",
    "\n",
    "$includes\n",
    "#define mnist_DATASET_LEN $dataset_len\n",
    "\n",
    "$record_struct\n",
    "\n",
    "extern const {Record_struct_name}  {Dataset_inst_name}[$dataset_len];\n",
    "\n",
    "\n",
    "#endif  // $header_guard\n",
    "''')"
   ]
  },
  {
   "cell_type": "code",
   "execution_count": null,
   "id": "4ea3d334",
   "metadata": {},
   "outputs": [],
   "source": [
    "# Generate header content and save it in a file\n",
    "Header_filename = 'mnist_dataset.h'\n",
    "save_path = './c-impl/' + Header_filename\n",
    "header_content = header_template.substitute(\n",
    "    header_guard=header_guard, includes=includes, \n",
    "    record_struct=record_struct, dataset_len=Export_len,\n",
    ")\n",
    "\n",
    "#print(header_content)\n",
    "with open(save_path, 'w') as outfile:\n",
    "    outfile.write(header_content)\n",
    "print(f\"INFO: Saved header file {save_path}\")"
   ]
  },
  {
   "cell_type": "markdown",
   "id": "de93a12f",
   "metadata": {},
   "source": [
    "## Export Dataset C-source"
   ]
  },
  {
   "cell_type": "code",
   "execution_count": null,
   "id": "92ae2774",
   "metadata": {},
   "outputs": [],
   "source": [
    "from random import sample\n",
    "\n",
    "\n",
    "# Select a subset of data items\n",
    "data_subset = sample(Dataset, Export_len)\n",
    "print('data_subset len:', len(data_subset))"
   ]
  },
  {
   "cell_type": "code",
   "execution_count": null,
   "id": "2b9ce9b2",
   "metadata": {},
   "outputs": [],
   "source": [
    "C_item_template = Template(\n",
    "'''.label_index = $label_index,\n",
    ".predicted_index = $predicted_index,\n",
    ".feature_vec = { $feature_vec_str },''')\n",
    "\n",
    "\n",
    "# Given a DataItem, returns an instantiation C-source code\n",
    "def makeRecordSource(item):\n",
    "    mstr = ['{']\n",
    "    feature_vec_str = csourceVector(item.feature_vec)\n",
    "    mstr.append( C_item_template.substitute( label_index=item.label_index, \n",
    "                                             predicted_index=item.predicted_index,\n",
    "                                             feature_vec_str=feature_vec_str)       )\n",
    "    mstr.append('}')\n",
    "    return '\\n'.join(mstr)\n",
    "\n",
    "\n",
    "# Test makeRecordSource()\n",
    "#item = data_subset[0]\n",
    "#print(makeRecordSource(item))\n",
    "    "
   ]
  },
  {
   "cell_type": "code",
   "execution_count": null,
   "id": "ee95dfef",
   "metadata": {},
   "outputs": [],
   "source": [
    "## Build C-source content\n",
    "# C-source template\n",
    "csource_template = Template(f'''\n",
    "#include \"$header_filename\"\n",
    "\n",
    "\n",
    "const {Record_struct_name}  {Dataset_inst_name}[$dataset_len] = {{\n",
    "$record_list_str\n",
    "}};\n",
    "''')\n",
    "\n",
    "\n",
    "# Build record_list_str\n",
    "record_list_str = []\n",
    "for item in data_subset:\n",
    "    record_str = makeRecordSource(item)\n",
    "    record_list_str.append(record_str)\n",
    "record_list_str = ',\\n\\n'.join(record_list_str)\n",
    "\n",
    "\n",
    "# instantiate the template\n",
    "csource_data = csource_template.substitute(header_filename=Header_filename,\n",
    "                                           dataset_len=Export_len, \n",
    "                                           record_list_str=record_list_str)"
   ]
  },
  {
   "cell_type": "code",
   "execution_count": null,
   "id": "ac7fdea2",
   "metadata": {},
   "outputs": [],
   "source": [
    "# Save the dataset content as C-source\n",
    "save_path = './c-impl/mnist_dataset.c'\n",
    "with open(save_path, 'w') as outfile:\n",
    "    outfile.write(csource_data)\n",
    "print(f\"INFO: Saved header file {save_path}\")"
   ]
  },
  {
   "cell_type": "code",
   "execution_count": null,
   "id": "34b8b4b4",
   "metadata": {},
   "outputs": [],
   "source": []
  }
 ],
 "metadata": {
  "kernelspec": {
   "display_name": "Python 3 (ipykernel)",
   "language": "python",
   "name": "python3"
  },
  "language_info": {
   "codemirror_mode": {
    "name": "ipython",
    "version": 3
   },
   "file_extension": ".py",
   "mimetype": "text/x-python",
   "name": "python",
   "nbconvert_exporter": "python",
   "pygments_lexer": "ipython3",
   "version": "3.10.11"
  },
  "toc": {
   "base_numbering": 1,
   "nav_menu": {},
   "number_sections": true,
   "sideBar": true,
   "skip_h1_title": false,
   "title_cell": "Table of Contents",
   "title_sidebar": "Contents",
   "toc_cell": false,
   "toc_position": {},
   "toc_section_display": true,
   "toc_window_display": false
  }
 },
 "nbformat": 4,
 "nbformat_minor": 5
}
